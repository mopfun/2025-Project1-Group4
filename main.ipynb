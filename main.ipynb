{
 "cells": [
  {
   "cell_type": "code",
   "execution_count": 1,
   "metadata": {},
   "outputs": [
    {
     "name": "stdout",
     "output_type": "stream",
     "text": [
      "Hello Team!\n"
     ]
    }
   ],
   "source": [
    "print('Hello Team!')"
   ]
  },
  {
   "cell_type": "code",
   "execution_count": 1,
   "metadata": {},
   "outputs": [],
   "source": [
    "# Import Dependencies\n",
    "import pandas as pd\n",
    "from pathlib import Path\n",
    "import matplotlib.pyplot as plt\n",
    "import scipy.stats as st\n",
    "import numpy as np\n",
    "from scipy.stats import pearsonr\n",
    "from scipy.stats import linregress\n",
    "# import plotly.express as px #function for hover functions"
   ]
  },
  {
   "cell_type": "code",
   "execution_count": 3,
   "metadata": {},
   "outputs": [],
   "source": [
    "# Store filepath into variable\n",
    "anxiety_csv = Path(\"Resources/anxiety_attack_dataset.csv\")\n",
    "# Read in files.\n",
    "anxiety_df = pd.read_csv(anxiety_csv)"
   ]
  },
  {
   "cell_type": "code",
   "execution_count": 4,
   "metadata": {},
   "outputs": [
    {
     "data": {
      "text/html": [
       "<div>\n",
       "<style scoped>\n",
       "    .dataframe tbody tr th:only-of-type {\n",
       "        vertical-align: middle;\n",
       "    }\n",
       "\n",
       "    .dataframe tbody tr th {\n",
       "        vertical-align: top;\n",
       "    }\n",
       "\n",
       "    .dataframe thead th {\n",
       "        text-align: right;\n",
       "    }\n",
       "</style>\n",
       "<table border=\"1\" class=\"dataframe\">\n",
       "  <thead>\n",
       "    <tr style=\"text-align: right;\">\n",
       "      <th></th>\n",
       "      <th>ID</th>\n",
       "      <th>Age</th>\n",
       "      <th>Sleep Hours</th>\n",
       "      <th>Physical Activity (hrs/week)</th>\n",
       "      <th>Caffeine Intake (mg/day)</th>\n",
       "      <th>Alcohol Consumption (drinks/week)</th>\n",
       "      <th>Stress Level (1-10)</th>\n",
       "      <th>Heart Rate (bpm during attack)</th>\n",
       "      <th>Breathing Rate (breaths/min)</th>\n",
       "      <th>Sweating Level (1-5)</th>\n",
       "      <th>Therapy Sessions (per month)</th>\n",
       "      <th>Diet Quality (1-10)</th>\n",
       "      <th>Severity of Anxiety Attack (1-10)</th>\n",
       "    </tr>\n",
       "  </thead>\n",
       "  <tbody>\n",
       "    <tr>\n",
       "      <th>count</th>\n",
       "      <td>12000.00000</td>\n",
       "      <td>12000.00000</td>\n",
       "      <td>12000.000000</td>\n",
       "      <td>12000.000000</td>\n",
       "      <td>12000.000000</td>\n",
       "      <td>12000.000000</td>\n",
       "      <td>12000.000000</td>\n",
       "      <td>12000.000000</td>\n",
       "      <td>12000.000000</td>\n",
       "      <td>12000.000000</td>\n",
       "      <td>12000.000000</td>\n",
       "      <td>12000.000000</td>\n",
       "      <td>12000.000000</td>\n",
       "    </tr>\n",
       "    <tr>\n",
       "      <th>mean</th>\n",
       "      <td>6000.50000</td>\n",
       "      <td>40.96675</td>\n",
       "      <td>6.482650</td>\n",
       "      <td>5.030892</td>\n",
       "      <td>246.696083</td>\n",
       "      <td>9.492833</td>\n",
       "      <td>5.462250</td>\n",
       "      <td>119.398500</td>\n",
       "      <td>25.462333</td>\n",
       "      <td>2.987417</td>\n",
       "      <td>4.518417</td>\n",
       "      <td>5.497333</td>\n",
       "      <td>5.507583</td>\n",
       "    </tr>\n",
       "    <tr>\n",
       "      <th>std</th>\n",
       "      <td>3464.24595</td>\n",
       "      <td>13.47328</td>\n",
       "      <td>2.014885</td>\n",
       "      <td>2.889000</td>\n",
       "      <td>144.487071</td>\n",
       "      <td>5.769364</td>\n",
       "      <td>2.897201</td>\n",
       "      <td>34.806711</td>\n",
       "      <td>8.090686</td>\n",
       "      <td>1.414482</td>\n",
       "      <td>2.866010</td>\n",
       "      <td>2.867579</td>\n",
       "      <td>2.858663</td>\n",
       "    </tr>\n",
       "    <tr>\n",
       "      <th>min</th>\n",
       "      <td>1.00000</td>\n",
       "      <td>18.00000</td>\n",
       "      <td>3.000000</td>\n",
       "      <td>0.000000</td>\n",
       "      <td>0.000000</td>\n",
       "      <td>0.000000</td>\n",
       "      <td>1.000000</td>\n",
       "      <td>60.000000</td>\n",
       "      <td>12.000000</td>\n",
       "      <td>1.000000</td>\n",
       "      <td>0.000000</td>\n",
       "      <td>1.000000</td>\n",
       "      <td>1.000000</td>\n",
       "    </tr>\n",
       "    <tr>\n",
       "      <th>25%</th>\n",
       "      <td>3000.75000</td>\n",
       "      <td>29.00000</td>\n",
       "      <td>4.800000</td>\n",
       "      <td>2.500000</td>\n",
       "      <td>122.000000</td>\n",
       "      <td>5.000000</td>\n",
       "      <td>3.000000</td>\n",
       "      <td>89.000000</td>\n",
       "      <td>18.000000</td>\n",
       "      <td>2.000000</td>\n",
       "      <td>2.000000</td>\n",
       "      <td>3.000000</td>\n",
       "      <td>3.000000</td>\n",
       "    </tr>\n",
       "    <tr>\n",
       "      <th>50%</th>\n",
       "      <td>6000.50000</td>\n",
       "      <td>41.00000</td>\n",
       "      <td>6.500000</td>\n",
       "      <td>5.000000</td>\n",
       "      <td>244.000000</td>\n",
       "      <td>9.000000</td>\n",
       "      <td>5.000000</td>\n",
       "      <td>119.000000</td>\n",
       "      <td>25.000000</td>\n",
       "      <td>3.000000</td>\n",
       "      <td>5.000000</td>\n",
       "      <td>5.000000</td>\n",
       "      <td>6.000000</td>\n",
       "    </tr>\n",
       "    <tr>\n",
       "      <th>75%</th>\n",
       "      <td>9000.25000</td>\n",
       "      <td>53.00000</td>\n",
       "      <td>8.200000</td>\n",
       "      <td>7.525000</td>\n",
       "      <td>371.000000</td>\n",
       "      <td>15.000000</td>\n",
       "      <td>8.000000</td>\n",
       "      <td>149.000000</td>\n",
       "      <td>32.000000</td>\n",
       "      <td>4.000000</td>\n",
       "      <td>7.000000</td>\n",
       "      <td>8.000000</td>\n",
       "      <td>8.000000</td>\n",
       "    </tr>\n",
       "    <tr>\n",
       "      <th>max</th>\n",
       "      <td>12000.00000</td>\n",
       "      <td>64.00000</td>\n",
       "      <td>10.000000</td>\n",
       "      <td>10.000000</td>\n",
       "      <td>499.000000</td>\n",
       "      <td>19.000000</td>\n",
       "      <td>10.000000</td>\n",
       "      <td>179.000000</td>\n",
       "      <td>39.000000</td>\n",
       "      <td>5.000000</td>\n",
       "      <td>9.000000</td>\n",
       "      <td>10.000000</td>\n",
       "      <td>10.000000</td>\n",
       "    </tr>\n",
       "  </tbody>\n",
       "</table>\n",
       "</div>"
      ],
      "text/plain": [
       "                ID          Age   Sleep Hours  Physical Activity (hrs/week)  \\\n",
       "count  12000.00000  12000.00000  12000.000000                  12000.000000   \n",
       "mean    6000.50000     40.96675      6.482650                      5.030892   \n",
       "std     3464.24595     13.47328      2.014885                      2.889000   \n",
       "min        1.00000     18.00000      3.000000                      0.000000   \n",
       "25%     3000.75000     29.00000      4.800000                      2.500000   \n",
       "50%     6000.50000     41.00000      6.500000                      5.000000   \n",
       "75%     9000.25000     53.00000      8.200000                      7.525000   \n",
       "max    12000.00000     64.00000     10.000000                     10.000000   \n",
       "\n",
       "       Caffeine Intake (mg/day)  Alcohol Consumption (drinks/week)  \\\n",
       "count              12000.000000                       12000.000000   \n",
       "mean                 246.696083                           9.492833   \n",
       "std                  144.487071                           5.769364   \n",
       "min                    0.000000                           0.000000   \n",
       "25%                  122.000000                           5.000000   \n",
       "50%                  244.000000                           9.000000   \n",
       "75%                  371.000000                          15.000000   \n",
       "max                  499.000000                          19.000000   \n",
       "\n",
       "       Stress Level (1-10)  Heart Rate (bpm during attack)  \\\n",
       "count         12000.000000                    12000.000000   \n",
       "mean              5.462250                      119.398500   \n",
       "std               2.897201                       34.806711   \n",
       "min               1.000000                       60.000000   \n",
       "25%               3.000000                       89.000000   \n",
       "50%               5.000000                      119.000000   \n",
       "75%               8.000000                      149.000000   \n",
       "max              10.000000                      179.000000   \n",
       "\n",
       "       Breathing Rate (breaths/min)  Sweating Level (1-5)  \\\n",
       "count                  12000.000000          12000.000000   \n",
       "mean                      25.462333              2.987417   \n",
       "std                        8.090686              1.414482   \n",
       "min                       12.000000              1.000000   \n",
       "25%                       18.000000              2.000000   \n",
       "50%                       25.000000              3.000000   \n",
       "75%                       32.000000              4.000000   \n",
       "max                       39.000000              5.000000   \n",
       "\n",
       "       Therapy Sessions (per month)  Diet Quality (1-10)  \\\n",
       "count                  12000.000000         12000.000000   \n",
       "mean                       4.518417             5.497333   \n",
       "std                        2.866010             2.867579   \n",
       "min                        0.000000             1.000000   \n",
       "25%                        2.000000             3.000000   \n",
       "50%                        5.000000             5.000000   \n",
       "75%                        7.000000             8.000000   \n",
       "max                        9.000000            10.000000   \n",
       "\n",
       "       Severity of Anxiety Attack (1-10)  \n",
       "count                       12000.000000  \n",
       "mean                            5.507583  \n",
       "std                             2.858663  \n",
       "min                             1.000000  \n",
       "25%                             3.000000  \n",
       "50%                             6.000000  \n",
       "75%                             8.000000  \n",
       "max                            10.000000  "
      ]
     },
     "execution_count": 4,
     "metadata": {},
     "output_type": "execute_result"
    }
   ],
   "source": [
    "#quick statistical analysis\n",
    "anxiety_df.describe()"
   ]
  },
  {
   "cell_type": "code",
   "execution_count": null,
   "metadata": {},
   "outputs": [],
   "source": [
    "#list of columns\n",
    "anxiety_df.columns"
   ]
  },
  {
   "cell_type": "code",
   "execution_count": null,
   "metadata": {},
   "outputs": [],
   "source": [
    "#Renaming columns that I am pulling from (updating Severity of Anxiety Attack to Severity)\n",
    "anxiety_df.columns = ['ID', 'Age', 'Gender', 'Occupation', 'Sleep Hours',\n",
    "       'Physical Activity (hrs/week)', 'Caffeine Intake (mg/day)',\n",
    "       'Alcohol Consumption (drinks/week)', 'Smoking',\n",
    "       'Family History of Anxiety', 'Stress Level (1-10)',\n",
    "       'Heart Rate (bpm during attack)', 'Breathing Rate (breaths/min)',\n",
    "       'Sweating Level (1-5)', 'Dizziness', 'Medication',\n",
    "       'Therapy Sessions (per month)', 'Recent Major Life Event',\n",
    "       'Diet Quality (1-10)', 'Severity'\n",
    "]\n",
    "anxiety_df.head(5)"
   ]
  },
  {
   "cell_type": "code",
   "execution_count": null,
   "metadata": {},
   "outputs": [],
   "source": [
    "#Organize by age, gender, and severity, setting severity as index\n",
    "organized_anxiety_df = anxiety_df[['Gender', 'Age', 'Severity']].set_index('Severity')\n",
    "organized_anxiety_df.head()"
   ]
  },
  {
   "cell_type": "code",
   "execution_count": null,
   "metadata": {},
   "outputs": [],
   "source": [
    "#sort in descending order for age\n",
    "organized_anxiety_df.sort_values(by=['Age'], ascending=[True], inplace=True)\n",
    "organized_anxiety_df.head()"
   ]
  },
  {
   "cell_type": "code",
   "execution_count": null,
   "metadata": {},
   "outputs": [],
   "source": [
    "#sort in descending order for severity\n",
    "organized_anxiety_df.sort_values(by=['Severity'], ascending=[True], inplace=True)\n",
    "organized_anxiety_df.head()"
   ]
  },
  {
   "cell_type": "code",
   "execution_count": null,
   "metadata": {},
   "outputs": [],
   "source": [
    "#showing the number of age count duplicates\n",
    "organized_anxiety_df[\"Age\"].value_counts()"
   ]
  },
  {
   "cell_type": "code",
   "execution_count": null,
   "metadata": {},
   "outputs": [],
   "source": [
    "# Top 500\n",
    "organized_anxiety_df.head(500)\n",
    "\n",
    "#Bottom 500\n",
    "organized_anxiety_df.tail(500)"
   ]
  },
  {
   "cell_type": "markdown",
   "metadata": {},
   "source": [
    "## What is the relationship between the severity of anxiety attacks and demographics such as age, gender, and occupation"
   ]
  },
  {
   "cell_type": "markdown",
   "metadata": {},
   "source": [
    "### Age and Severity"
   ]
  },
  {
   "cell_type": "code",
   "execution_count": null,
   "metadata": {},
   "outputs": [],
   "source": [
    "#severity and age original before organized df (below) - still should give the same output\n",
    "mean = anxiety_df.groupby('Severity')['Age'].mean()\n",
    "median = anxiety_df.groupby('Severity')['Age'].median()\n",
    "variance = anxiety_df.groupby('Severity')['Age'].var()\n",
    "std_dev = anxiety_df.groupby('Severity')['Age'].std()\n",
    "sem = anxiety_df.groupby('Severity')['Age'].sem()\n",
    "\n",
    "#new data frame\n",
    "age_df = pd.DataFrame({\n",
    "        'Age Mean': mean,\n",
    "        'Age Median': median,\n",
    "        'Age Var': variance,\n",
    "        'Age Std Dev': std_dev,\n",
    "        'Age Std Err': sem\n",
    "})\n",
    "age_df"
   ]
  },
  {
   "cell_type": "code",
   "execution_count": null,
   "metadata": {},
   "outputs": [],
   "source": [
    "#sort by just age and severity level\n",
    "age_df = anxiety_df[['Age', 'Severity']]\n",
    "age_df.head()"
   ]
  },
  {
   "cell_type": "code",
   "execution_count": null,
   "metadata": {},
   "outputs": [],
   "source": [
    "#age counts\n",
    "age_count_df = organized_anxiety_df.groupby(['Severity', 'Age']).size().unstack(fill_value=0)\n",
    "print(age_count_df)"
   ]
  },
  {
   "cell_type": "code",
   "execution_count": null,
   "metadata": {},
   "outputs": [],
   "source": [
    "#severity and gender stats\n",
    "# need to create a df that will show the severity levels and their gender counts\n",
    "gender_df = anxiety_df.groupby([\"Severity\", \"Gender\"]).size().unstack(fill_value=0)\n",
    "# gender_df = organized_anxiety_df.groupby([\"Severity\", \"Gender\"]).size().unstack(fill_value=0)\n",
    "\n",
    "# Display result (maybe get rid of other category)\n",
    "gender_df\n",
    "# print(gender_df)"
   ]
  },
  {
   "cell_type": "code",
   "execution_count": null,
   "metadata": {},
   "outputs": [],
   "source": [
    "#only show male/female genders with Severity as index\n",
    "df_selected = gender_df[[\"Female\", \"Male\"]]\n",
    "df_selected"
   ]
  },
  {
   "cell_type": "code",
   "execution_count": null,
   "metadata": {},
   "outputs": [],
   "source": [
    "#female count with severity levels\n",
    "female_df = organized_anxiety_df[organized_anxiety_df['Gender'] =='Female']\n",
    "female_df.head()\n",
    "\n",
    "female_severity_df = female_df.groupby([\"Severity\", \"Gender\"]).size().unstack(fill_value=0)\n",
    "print(female_severity_df)"
   ]
  },
  {
   "cell_type": "code",
   "execution_count": null,
   "metadata": {},
   "outputs": [],
   "source": [
    "#male count with respect to the serverity levels\n",
    "male_df = organized_anxiety_df[organized_anxiety_df['Gender'] =='Male']\n",
    "female_df.head()\n",
    "\n",
    "male_severity_df = male_df.groupby([\"Severity\", \"Gender\"]).size().unstack(fill_value=0)\n",
    "print(male_severity_df)"
   ]
  },
  {
   "cell_type": "code",
   "execution_count": null,
   "metadata": {},
   "outputs": [],
   "source": [
    "#scatter plot of female count vs severity\n",
    "plt.scatter(df_selected.index, df_selected[\"Female\"], color='red', alpha=0.6)\n",
    "\n",
    "# Labels and title\n",
    "plt.xlabel(\"Severity Level\")\n",
    "plt.ylabel(\"Female Count\")\n",
    "plt.title(\"Female Count vs Severity Level\")\n",
    "\n",
    "# Show the plot\n",
    "plt.show()"
   ]
  },
  {
   "cell_type": "code",
   "execution_count": null,
   "metadata": {},
   "outputs": [],
   "source": [
    "#scatter plot of female count vs severity\n",
    "plt.scatter(df_selected.index, df_selected[\"Male\"], color='blue', alpha=0.6)\n",
    "# plt.plot(df_selected['Severity'], regression_line, color='red', label='Regression Line')\n",
    "\n",
    "# Labels and title\n",
    "plt.xlabel(\"Severity Level\")\n",
    "plt.ylabel(\"Male Count\")\n",
    "plt.title(\"Male Count vs Severity Level\")\n",
    "\n",
    "# Show the plot\n",
    "plt.show()"
   ]
  },
  {
   "cell_type": "code",
   "execution_count": null,
   "metadata": {},
   "outputs": [],
   "source": [
    "#correlation calculation for female/male vs severity\n",
    "correlation, p_value = pearsonr(df_selected[\"Male\"], df_selected[\"Female\"])\n",
    "\n",
    "# Display results\n",
    "print(f\"Pearson correlation coefficient: {correlation:.4f}\")\n",
    "print(f\"P-value: {p_value:.4f}\")"
   ]
  },
  {
   "cell_type": "code",
   "execution_count": null,
   "metadata": {},
   "outputs": [],
   "source": [
    "#scatter of both genders combined\n",
    "\n",
    "# Scatter plot for Female\n",
    "plt.scatter(df_selected.index, df_selected[\"Female\"], color='red', alpha=0.6, label=\"Female\")\n",
    "\n",
    "# Scatter plot for Male\n",
    "plt.scatter(df_selected.index, df_selected[\"Male\"], color='blue', alpha=0.6, label=\"Male\")\n",
    "\n",
    "# Labels and title\n",
    "plt.xlabel(\"Severity Level\")\n",
    "plt.ylabel(\"Count\")\n",
    "plt.title(\"Male & Female Count vs Severity Level\")\n",
    "\n",
    "# Add legend\n",
    "plt.legend()\n",
    "\n",
    "# Show the plot\n",
    "plt.show()"
   ]
  },
  {
   "cell_type": "code",
   "execution_count": null,
   "metadata": {},
   "outputs": [],
   "source": [
    "#severity and gender bar graph (removed other gender category)\n",
    "df_selected.plot(kind='bar', figsize=(5.8, 5)) #creating bar plot\n",
    "\n",
    "# Add titles and labels\n",
    "plt.title('Severity vs Gender Count')\n",
    "plt.xlabel('Severity Level')\n",
    "# plt.xticks(rotation=90)\n",
    "plt.ylabel('Persons')\n",
    "\n",
    "#plotting\n",
    "plt.tight_layout()\n",
    "plt.show()"
   ]
  },
  {
   "cell_type": "code",
   "execution_count": null,
   "metadata": {},
   "outputs": [],
   "source": [
    "#line plot of severity and gender count\n",
    "df_selected.plot(kind=\"line\", figsize=(8, 5))\n",
    "\n",
    "# Customize the plot\n",
    "plt.xlabel(\"Severity Level\")\n",
    "plt.ylabel(\"Persons\")\n",
    "plt.title(\"Severity Levels vs. Gender Count\")\n",
    "plt.legend(title=\"Gender\")\n",
    "plt.grid(True)\n",
    "\n",
    "# Show the plot\n",
    "plt.show()"
   ]
  },
  {
   "cell_type": "markdown",
   "metadata": {},
   "source": [
    "### Occupation and Severity"
   ]
  },
  {
   "cell_type": "code",
   "execution_count": null,
   "metadata": {},
   "outputs": [],
   "source": [
    "#severity and occcupation\n",
    "occupation_df = anxiety_df.groupby([\"Severity\", \"Occupation\"]).size().unstack(fill_value=0)\n",
    "\n",
    "# Display result\n",
    "occupation_df\n",
    "# print(occupation_df)"
   ]
  },
  {
   "cell_type": "code",
   "execution_count": null,
   "metadata": {},
   "outputs": [],
   "source": [
    "#scatter plot\n",
    "occupation_df.plot(kind=\"line\", figsize=(8, 5))\n",
    "\n",
    "# Customize the plot\n",
    "plt.xlabel(\"Severity Level\")\n",
    "plt.ylabel(\"Persons Count\")\n",
    "plt.title(\"Severity Levels vs. Occcupation\")\n",
    "plt.legend(title=\"Occupation\")\n",
    "plt.grid(True)\n",
    "\n",
    "# Show the plot\n",
    "plt.show()"
   ]
  },
  {
   "cell_type": "markdown",
   "metadata": {},
   "source": [
    "## Correlations"
   ]
  },
  {
   "cell_type": "markdown",
   "metadata": {},
   "source": [
    "### Gender and Age"
   ]
  },
  {
   "cell_type": "code",
   "execution_count": null,
   "metadata": {},
   "outputs": [],
   "source": [
    "# merging the age and gender df to compare the two categories + setting severity as index\n",
    "merged_df = pd.merge(age_df, df_selected, on='Severity').set_index('Severity')\n",
    "\n",
    "#sorting in descending order on Severity\n",
    "merged_df.sort_values(by=['Severity'], ascending=[True], inplace=True)\n",
    "\n",
    "merged_df.head()\n",
    "# print(merged_df)"
   ]
  },
  {
   "cell_type": "code",
   "execution_count": null,
   "metadata": {},
   "outputs": [],
   "source": [
    "organized_anxiety_df.head()"
   ]
  },
  {
   "cell_type": "code",
   "execution_count": null,
   "metadata": {},
   "outputs": [],
   "source": [
    "#correlation calculation for female/male vs severity\n",
    "correlation, p_value = pearsonr(merged_df[\"Male\"], merged_df[\"Female\"])\n",
    "\n",
    "# Display results\n",
    "print(f\"Pearson correlation coefficient: {correlation:.4f}\")\n",
    "print(f\"P-value: {p_value:.4f}\")"
   ]
  },
  {
   "cell_type": "markdown",
   "metadata": {},
   "source": [
    "Conclussion for above p-value of 0.0010\n",
    "This data suggests there is no true correlation between genderrs and the severity of the anxiety attacks."
   ]
  }
 ],
 "metadata": {
  "anaconda-cloud": {},
  "kernelspec": {
   "display_name": "PythonData_2024_12",
   "language": "python",
   "name": "python3"
  },
  "language_info": {
   "codemirror_mode": {
    "name": "ipython",
    "version": 3
   },
   "file_extension": ".py",
   "mimetype": "text/x-python",
   "name": "python",
   "nbconvert_exporter": "python",
   "pygments_lexer": "ipython3",
   "version": "3.10.16"
  }
 },
 "nbformat": 4,
 "nbformat_minor": 4
}
